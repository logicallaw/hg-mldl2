{
  "nbformat": 4,
  "nbformat_minor": 0,
  "metadata": {
    "colab": {
      "name": "08-2 합성곱 신경망을 사용한 이미지 분류 (파이토치)",
      "provenance": [],
      "gpuType": "T4",
      "authorship_tag": "ABX9TyO1fHs2wBB+mf27VG1OWQdN"
    },
    "kernelspec": {
      "name": "python3",
      "display_name": "Python 3"
    },
    "language_info": {
      "name": "python"
    },
    "accelerator": "GPU"
  },
  "cells": [
    {
      "cell_type": "markdown",
      "source": [
        "# 합성곱 신경망을 사용한 이미지 분류 (파이토치)"
      ],
      "metadata": {
        "id": "fvpweBdmFXqG"
      }
    },
    {
      "cell_type": "markdown",
      "source": [
        "<table align=\"left\"><tr><td>\n",
        "<a href=\"https://colab.research.google.com/github/rickiepark/hg-mldl2/blob/main/08-2.pytorch.ipynb\" target=\"_parent\"><img src=\"https://colab.research.google.com/assets/colab-badge.svg\" alt=\"코랩에서 실행하기\"/></a>\n",
        "</td></tr></table>"
      ],
      "metadata": {
        "id": "0E7dkJR8FXi3"
      }
    },
    {
      "cell_type": "code",
      "source": [
        "# 실행마다 동일한 결과를 얻기 위해 파이토치에 랜덤 시드를 지정하고 GPU 연산을 결정적으로 만듭니다.\n",
        "import torch\n",
        "\n",
        "torch.manual_seed(42)\n",
        "if torch.cuda.is_available():\n",
        "    torch.cuda.manual_seed(42)\n",
        "    torch.backends.cudnn.deterministic = True"
      ],
      "metadata": {
        "id": "KIajgl2aEAzX"
      },
      "execution_count": 1,
      "outputs": []
    },
    {
      "cell_type": "code",
      "source": [
        "from torchvision.datasets import FashionMNIST\n",
        "\n",
        "fm_train = FashionMNIST(root='.', train=True, download=True)\n",
        "fm_test = FashionMNIST(root='.', train=False, download=True)"
      ],
      "metadata": {
        "id": "240rE4p-Hih8",
        "colab": {
          "base_uri": "https://localhost:8080/"
        },
        "outputId": "1bbef2e0-3973-4e61-b36b-7e085ce53914"
      },
      "execution_count": 2,
      "outputs": [
        {
          "output_type": "stream",
          "name": "stderr",
          "text": [
            "100%|██████████| 26.4M/26.4M [00:02<00:00, 11.2MB/s]\n",
            "100%|██████████| 29.5k/29.5k [00:00<00:00, 176kB/s]\n",
            "100%|██████████| 4.42M/4.42M [00:01<00:00, 3.13MB/s]\n",
            "100%|██████████| 5.15k/5.15k [00:00<00:00, 22.0MB/s]\n"
          ]
        }
      ]
    },
    {
      "cell_type": "code",
      "source": [
        "train_input = fm_train.data\n",
        "train_target = fm_train.targets"
      ],
      "metadata": {
        "id": "Ep2HHMl92Ced"
      },
      "execution_count": 3,
      "outputs": []
    },
    {
      "cell_type": "code",
      "source": [
        "train_scaled = train_input.reshape(-1, 1, 28, 28) / 255.0"
      ],
      "metadata": {
        "id": "oldlijP41Vb-"
      },
      "execution_count": 4,
      "outputs": []
    },
    {
      "cell_type": "code",
      "source": [
        "from sklearn.model_selection import train_test_split\n",
        "\n",
        "train_scaled, val_scaled, train_target, val_target = train_test_split(\n",
        "    train_scaled, train_target, test_size=0.2, random_state=42)"
      ],
      "metadata": {
        "id": "Fb6FsF1H1LQ9"
      },
      "execution_count": 5,
      "outputs": []
    },
    {
      "cell_type": "code",
      "execution_count": 6,
      "metadata": {
        "id": "hiZNXVSWHOZe"
      },
      "outputs": [],
      "source": [
        "import torch.nn as nn\n",
        "\n",
        "model = nn.Sequential()\n",
        "model.add_module('conv1', nn.Conv2d(1, 32, kernel_size=3, padding='same'))\n",
        "model.add_module('relu1', nn.ReLU())\n",
        "model.add_module('pool1', nn.MaxPool2d(2))\n",
        "model.add_module('conv2', nn.Conv2d(32, 64, kernel_size=3, padding='same'))\n",
        "model.add_module('relu2', nn.ReLU())\n",
        "model.add_module('pool2', nn.MaxPool2d(2))\n",
        "model.add_module('flatten', nn.Flatten())"
      ]
    },
    {
      "cell_type": "code",
      "source": [
        "outputs = model(torch.ones(1, 1, 28, 28))\n",
        "print(outputs.shape)"
      ],
      "metadata": {
        "id": "u8JCC8XpZZmY",
        "outputId": "508a27ea-b4c8-49e4-f64c-74c6f6a0ff8c",
        "colab": {
          "base_uri": "https://localhost:8080/"
        }
      },
      "execution_count": 7,
      "outputs": [
        {
          "output_type": "stream",
          "name": "stdout",
          "text": [
            "torch.Size([1, 3136])\n"
          ]
        }
      ]
    },
    {
      "cell_type": "code",
      "source": [
        "model.add_module('dense1', nn.Linear(3136, 100))\n",
        "model.add_module('relu3', nn.ReLU())\n",
        "model.add_module('dropout', nn.Dropout(0.3))\n",
        "model.add_module('dense2', nn.Linear(100, 10))"
      ],
      "metadata": {
        "id": "-Iswx8MsZP6C"
      },
      "execution_count": 8,
      "outputs": []
    },
    {
      "cell_type": "code",
      "source": [
        "import torch\n",
        "\n",
        "device = torch.device(\"cuda\" if torch.cuda.is_available() else \"cpu\")\n",
        "model.to(device)"
      ],
      "metadata": {
        "colab": {
          "base_uri": "https://localhost:8080/"
        },
        "id": "3F09Cqw6RVfi",
        "outputId": "bf59df1a-5a27-4917-ef86-0f69c3e074a7"
      },
      "execution_count": 9,
      "outputs": [
        {
          "output_type": "execute_result",
          "data": {
            "text/plain": [
              "Sequential(\n",
              "  (conv1): Conv2d(1, 32, kernel_size=(3, 3), stride=(1, 1), padding=same)\n",
              "  (relu1): ReLU()\n",
              "  (pool1): MaxPool2d(kernel_size=2, stride=2, padding=0, dilation=1, ceil_mode=False)\n",
              "  (conv2): Conv2d(32, 64, kernel_size=(3, 3), stride=(1, 1), padding=same)\n",
              "  (relu2): ReLU()\n",
              "  (pool2): MaxPool2d(kernel_size=2, stride=2, padding=0, dilation=1, ceil_mode=False)\n",
              "  (flatten): Flatten(start_dim=1, end_dim=-1)\n",
              "  (dense1): Linear(in_features=3136, out_features=100, bias=True)\n",
              "  (relu3): ReLU()\n",
              "  (dropout): Dropout(p=0.3, inplace=False)\n",
              "  (dense2): Linear(in_features=100, out_features=10, bias=True)\n",
              ")"
            ]
          },
          "metadata": {},
          "execution_count": 9
        }
      ]
    },
    {
      "cell_type": "code",
      "source": [
        "import torch.optim as optim\n",
        "\n",
        "criterion = nn.CrossEntropyLoss()\n",
        "optimizer = optim.Adam(model.parameters())"
      ],
      "metadata": {
        "id": "ZqiGSML9-p9q"
      },
      "execution_count": 10,
      "outputs": []
    },
    {
      "cell_type": "code",
      "source": [
        "from torch.utils.data import TensorDataset, DataLoader\n",
        "\n",
        "train_dataset = TensorDataset(train_scaled, train_target)\n",
        "val_dataset = TensorDataset(val_scaled, val_target)\n",
        "\n",
        "train_loader = DataLoader(train_dataset, batch_size=32, shuffle=True)\n",
        "val_loader = DataLoader(val_dataset, batch_size=32, shuffle=False)"
      ],
      "metadata": {
        "id": "Wo-vd7m8Zyy-"
      },
      "execution_count": 11,
      "outputs": []
    },
    {
      "cell_type": "code",
      "source": [
        "train_hist = []\n",
        "val_hist = []\n",
        "patience = 2\n",
        "best_loss = -1\n",
        "early_stopping_counter = 0\n",
        "\n",
        "epochs = 20\n",
        "for epoch in range(epochs):\n",
        "    model.train()\n",
        "    train_loss = 0\n",
        "    for inputs, targets in train_loader:\n",
        "        inputs, targets = inputs.to(device), targets.to(device)\n",
        "        optimizer.zero_grad()\n",
        "        outputs = model(inputs)\n",
        "        loss = criterion(outputs, targets)\n",
        "        loss.backward()\n",
        "        optimizer.step()\n",
        "        train_loss += loss.item()\n",
        "\n",
        "    model.eval()\n",
        "    val_loss = 0\n",
        "    with torch.no_grad():\n",
        "        for inputs, targets in val_loader:\n",
        "            inputs, targets = inputs.to(device), targets.to(device)\n",
        "            outputs = model(inputs)\n",
        "            loss = criterion(outputs, targets)\n",
        "            val_loss += loss.item()\n",
        "\n",
        "    train_loss = train_loss/len(train_loader)\n",
        "    val_loss = val_loss/len(val_loader)\n",
        "    train_hist.append(train_loss)\n",
        "    val_hist.append(val_loss)\n",
        "    print(f\"에포크:{epoch+1},\",\n",
        "          f\"훈련 손실:{train_loss:.4f}, 검증 손실:{val_loss:.4f}\")\n",
        "\n",
        "    if best_loss == -1 or val_loss < best_loss:\n",
        "        best_loss = val_loss\n",
        "        early_stopping_counter = 0\n",
        "        torch.save(model.state_dict(), 'best_cnn_model.pt')\n",
        "    else:\n",
        "        early_stopping_counter += 1\n",
        "        if early_stopping_counter >= patience:\n",
        "            print(f\"{epoch+1}번째 에포크에서 조기 종료되었습니다.\")\n",
        "            break"
      ],
      "metadata": {
        "colab": {
          "base_uri": "https://localhost:8080/"
        },
        "id": "4y_lnuYWFFp6",
        "outputId": "8402e68a-bca3-4152-c33f-ad1eab762222"
      },
      "execution_count": 12,
      "outputs": [
        {
          "output_type": "stream",
          "name": "stdout",
          "text": [
            "에포크:1, 훈련 손실:0.5179, 검증 손실:0.3493\n",
            "에포크:2, 훈련 손실:0.3400, 검증 손실:0.2964\n",
            "에포크:3, 훈련 손실:0.2863, 검증 손실:0.2568\n",
            "에포크:4, 훈련 손실:0.2568, 검증 손실:0.2458\n",
            "에포크:5, 훈련 손실:0.2317, 검증 손실:0.2323\n",
            "에포크:6, 훈련 손실:0.2138, 검증 손실:0.2319\n",
            "에포크:7, 훈련 손실:0.1944, 검증 손실:0.2331\n",
            "에포크:8, 훈련 손실:0.1765, 검증 손실:0.2172\n",
            "에포크:9, 훈련 손실:0.1640, 검증 손실:0.2287\n",
            "에포크:10, 훈련 손실:0.1475, 검증 손실:0.2319\n",
            "10번째 에포크에서 조기 종료되었습니다.\n"
          ]
        }
      ]
    },
    {
      "cell_type": "code",
      "source": [
        "import matplotlib.pyplot as plt\n",
        "\n",
        "plt.plot(train_hist, label='train')\n",
        "plt.plot(val_hist, label='val')\n",
        "plt.xlabel('epoch')\n",
        "plt.ylabel('loss')\n",
        "plt.legend()\n",
        "plt.show()"
      ],
      "metadata": {
        "colab": {
          "base_uri": "https://localhost:8080/",
          "height": 449
        },
        "id": "CaIShGSd8QiK",
        "outputId": "c93c23ef-db50-42a7-e667-952374df55d0"
      },
      "execution_count": 13,
      "outputs": [
        {
          "output_type": "display_data",
          "data": {
            "text/plain": [
              "<Figure size 640x480 with 1 Axes>"
            ],
            "image/png": "[encoded data removed]"
          },
          "metadata": {}
        }
      ]
    },
    {
      "cell_type": "code",
      "source": [
        "model.load_state_dict(torch.load('best_cnn_model.pt', weights_only=True))"
      ],
      "metadata": {
        "colab": {
          "base_uri": "https://localhost:8080/"
        },
        "id": "upAxpBot-xKx",
        "outputId": "22321a61-2033-474f-d176-2a33b4048abe"
      },
      "execution_count": 14,
      "outputs": [
        {
          "output_type": "execute_result",
          "data": {
            "text/plain": [
              "<All keys matched successfully>"
            ]
          },
          "metadata": {},
          "execution_count": 14
        }
      ]
    },
    {
      "cell_type": "code",
      "source": [
        "model.eval()\n",
        "corrects = 0\n",
        "with torch.no_grad():\n",
        "    for inputs, targets in val_loader:\n",
        "        inputs, targets = inputs.to(device), targets.to(device)\n",
        "        outputs = model(inputs)\n",
        "        predicts = torch.argmax(outputs, 1)\n",
        "        corrects += (predicts == targets).sum().item()\n",
        "\n",
        "accuracy = corrects / len(val_dataset)\n",
        "print(f\"검증 정확도: {accuracy:.4f}\")"
      ],
      "metadata": {
        "colab": {
          "base_uri": "https://localhost:8080/"
        },
        "id": "qUEWtfLa6pKu",
        "outputId": "22c0a349-99b5-4e7f-baac-ed08dd18d3f5"
      },
      "execution_count": 15,
      "outputs": [
        {
          "output_type": "stream",
          "name": "stdout",
          "text": [
            "검증 정확도: 0.9216\n"
          ]
        }
      ]
    },
    {
      "cell_type": "code",
      "source": [
        "test_scaled = fm_test.data.reshape(-1, 1, 28, 28) / 255.0\n",
        "test_target = fm_test.targets\n",
        "\n",
        "test_dataset = TensorDataset(test_scaled, test_target)\n",
        "test_loader = DataLoader(test_dataset, batch_size=32, shuffle=False)\n",
        "\n",
        "model.eval()\n",
        "corrects = 0\n",
        "with torch.no_grad():\n",
        "    for inputs, targets in test_loader:\n",
        "        inputs, targets = inputs.to(device), targets.to(device)\n",
        "        outputs = model(inputs)\n",
        "        predicts = torch.argmax(outputs, 1)\n",
        "        corrects += (predicts == targets).sum().item()\n",
        "\n",
        "accuracy = corrects / len(test_dataset)\n",
        "print(f\"테스트 정확도: {accuracy:.4f}\")"
      ],
      "metadata": {
        "id": "mzgX3WOiefyz",
        "outputId": "f2fc9ac2-bbe1-488e-efd9-0d4eb513c8c9",
        "colab": {
          "base_uri": "https://localhost:8080/"
        }
      },
      "execution_count": 16,
      "outputs": [
        {
          "output_type": "stream",
          "name": "stdout",
          "text": [
            "테스트 정확도: 0.9165\n"
          ]
        }
      ]
    }
  ]
}